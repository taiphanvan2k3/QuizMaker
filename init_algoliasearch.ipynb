{
 "cells": [
  {
   "cell_type": "code",
   "execution_count": 1,
   "metadata": {},
   "outputs": [],
   "source": [
    "from firebase_admin import credentials, firestore, initialize_app, get_app\n",
    "from algoliasearch.search_client import SearchClient"
   ]
  },
  {
   "cell_type": "code",
   "execution_count": 2,
   "metadata": {},
   "outputs": [],
   "source": [
    "def initialize_firestore():\n",
    "    try:\n",
    "        # Kiểm tra xem ứng dụng Firebase đã được khởi tạo chưa\n",
    "        get_app()\n",
    "    except Exception as e:\n",
    "        # Nếu chưa, khởi tạo nó\n",
    "        cred = credentials.Certificate(\"key.json\")\n",
    "        initialize_app(cred)\n",
    "        print(\"Initialize: Firebase app has been initialized.\")\n",
    "    return firestore.client()"
   ]
  },
  {
   "cell_type": "code",
   "execution_count": 3,
   "metadata": {},
   "outputs": [
    {
     "name": "stdout",
     "output_type": "stream",
     "text": [
      "Initialize: Firebase app has been initialized.\n"
     ]
    }
   ],
   "source": [
    "db = initialize_firestore()"
   ]
  },
  {
   "cell_type": "markdown",
   "metadata": {},
   "source": [
    "#### Init Algolia Search"
   ]
  },
  {
   "cell_type": "code",
   "execution_count": 4,
   "metadata": {},
   "outputs": [
    {
     "data": {
      "text/plain": [
       "<algoliasearch.responses.IndexingResponse at 0x12b9390c610>"
      ]
     },
     "execution_count": 4,
     "metadata": {},
     "output_type": "execute_result"
    }
   ],
   "source": [
    "client = SearchClient.create(\"8SYE9PPQXH\", \"320f3dea5088a0f273a764527b790978\")\n",
    "user_index = client.init_index(\"users\")\n",
    "user_index.set_settings({\n",
    "    \"searchableAttributes\": [\"display_name\", \"email\"]\n",
    "})"
   ]
  },
  {
   "cell_type": "code",
   "execution_count": 15,
   "metadata": {},
   "outputs": [],
   "source": [
    "# Lưu user vào algolia\n",
    "user_ref = db.collection(\"users\")\n",
    "users = user_ref.stream()\n",
    "for user in users:\n",
    "    user_data = user.to_dict()\n",
    "    user_index.save_object({\n",
    "        \"objectID\": user.id,\n",
    "        \"display_name\": user_data[\"display_name\"],\n",
    "        \"email\": user_data[\"email\"],\n",
    "        \"picture\": user_data[\"picture\"],\n",
    "    })"
   ]
  },
  {
   "cell_type": "code",
   "execution_count": 5,
   "metadata": {},
   "outputs": [
    {
     "data": {
      "text/plain": [
       "<algoliasearch.responses.IndexingResponse at 0x1e3052b8490>"
      ]
     },
     "execution_count": 5,
     "metadata": {},
     "output_type": "execute_result"
    }
   ],
   "source": [
    "# Your object\n",
    "user_object = {\n",
    "    'objectID': '110426175374584859787',  # Unique identifier\n",
    "    'email': 'taiphan2403a@gmail.com',\n",
    "    'display_name': 'Nhokzuize2k3',\n",
    "    'picture': 'https://lh3.googleusercontent.com/a'\n",
    "}\n",
    "\n",
    "# Insert the object into Algolia index\n",
    "user_index.save_object(user_object)"
   ]
  },
  {
   "cell_type": "markdown",
   "metadata": {},
   "source": [
    "#### Thử truy vấn với Algolia Search"
   ]
  },
  {
   "cell_type": "code",
   "execution_count": 7,
   "metadata": {},
   "outputs": [
    {
     "data": {
      "text/plain": [
       "'email:*manh* OR display_name:*manh*'"
      ]
     },
     "execution_count": 7,
     "metadata": {},
     "output_type": "execute_result"
    }
   ],
   "source": [
    "query = \"manh\"\n",
    "'email:*{}* OR display_name:*{}*'.format(query, query)"
   ]
  },
  {
   "cell_type": "code",
   "execution_count": 9,
   "metadata": {},
   "outputs": [
    {
     "data": {
      "text/plain": [
       "[]"
      ]
     },
     "execution_count": 9,
     "metadata": {},
     "output_type": "execute_result"
    }
   ],
   "source": [
    "query = \"taiphan\"\n",
    "search_result = user_index.search(query, {\n",
    "    'filters': 'email:*{}* OR display_name:*{}*'.format(query, query)\n",
    "})\n",
    "\n",
    "hits = search_result['hits']\n",
    "results = [\n",
    "        {\n",
    "            \"email\": hit[\"email\"],\n",
    "            \"display_name\": hit[\"display_name\"],\n",
    "            \"picture\": hit[\"picture\"],\n",
    "        }\n",
    "        for hit in hits\n",
    "    ]\n",
    "results\n",
    "# print(hits)"
   ]
  }
 ],
 "metadata": {
  "kernelspec": {
   "display_name": ".venv",
   "language": "python",
   "name": "python3"
  },
  "language_info": {
   "codemirror_mode": {
    "name": "ipython",
    "version": 3
   },
   "file_extension": ".py",
   "mimetype": "text/x-python",
   "name": "python",
   "nbconvert_exporter": "python",
   "pygments_lexer": "ipython3",
   "version": "3.11.5"
  }
 },
 "nbformat": 4,
 "nbformat_minor": 2
}
