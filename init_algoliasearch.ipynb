{
 "cells": [
  {
   "cell_type": "code",
   "execution_count": 1,
   "metadata": {},
   "outputs": [],
   "source": [
    "from firebase_admin import credentials, firestore, initialize_app, get_app"
   ]
  },
  {
   "cell_type": "code",
   "execution_count": 2,
   "metadata": {},
   "outputs": [],
   "source": [
    "from algoliasearch.search_client import SearchClient"
   ]
  },
  {
   "cell_type": "code",
   "execution_count": 3,
   "metadata": {},
   "outputs": [],
   "source": [
    "def initialize_firestore():\n",
    "    try:\n",
    "        # Kiểm tra xem ứng dụng Firebase đã được khởi tạo chưa\n",
    "        get_app()\n",
    "    except Exception as e:\n",
    "        # Nếu chưa, khởi tạo nó\n",
    "        cred = credentials.Certificate(\"key.json\")\n",
    "        initialize_app(cred)\n",
    "        print(\"Initialize: Firebase app has been initialized.\")\n",
    "    return firestore.client()"
   ]
  },
  {
   "cell_type": "code",
   "execution_count": 6,
   "metadata": {},
   "outputs": [
    {
     "name": "stdout",
     "output_type": "stream",
     "text": [
      "Initialize: Firebase app has been initialized.\n"
     ]
    }
   ],
   "source": [
    "db = initialize_firestore()"
   ]
  },
  {
   "cell_type": "markdown",
   "metadata": {},
   "source": [
    "#### Init Algolia Search"
   ]
  },
  {
   "cell_type": "code",
   "execution_count": 4,
   "metadata": {},
   "outputs": [],
   "source": [
    "client = SearchClient.create(\"8SYE9PPQXH\", \"320f3dea5088a0f273a764527b790978\")\n",
    "user_index = client.init_index(\"users\")"
   ]
  },
  {
   "cell_type": "code",
   "execution_count": 15,
   "metadata": {},
   "outputs": [],
   "source": [
    "# Lưu user vào algolia\n",
    "user_ref = db.collection(\"users\")\n",
    "users = user_ref.stream()\n",
    "for user in users:\n",
    "    user_data = user.to_dict()\n",
    "    user_index.save_object({\n",
    "        \"objectID\": user.id,\n",
    "        \"display_name\": user_data[\"display_name\"],\n",
    "        \"email\": user_data[\"email\"],\n",
    "        \"picture\": user_data[\"picture\"],\n",
    "    })"
   ]
  },
  {
   "cell_type": "code",
   "execution_count": 5,
   "metadata": {},
   "outputs": [
    {
     "data": {
      "text/plain": [
       "<algoliasearch.responses.IndexingResponse at 0x1e3052b8490>"
      ]
     },
     "execution_count": 5,
     "metadata": {},
     "output_type": "execute_result"
    }
   ],
   "source": [
    "# Your object\n",
    "user_object = {\n",
    "    'objectID': '110426175374584859787',  # Unique identifier\n",
    "    'email': 'taiphan2403a@gmail.com',\n",
    "    'display_name': 'Nhokzuize2k3',\n",
    "    'picture': 'https://lh3.googleusercontent.com/a'\n",
    "}\n",
    "\n",
    "# Insert the object into Algolia index\n",
    "user_index.save_object(user_object)"
   ]
  },
  {
   "cell_type": "markdown",
   "metadata": {},
   "source": [
    "#### Thử truy vấn với Algolia Search"
   ]
  },
  {
   "cell_type": "code",
   "execution_count": 29,
   "metadata": {},
   "outputs": [
    {
     "data": {
      "text/plain": [
       "[{'email': 'taiphan2403a@gmail.com',\n",
       "  'display_name': 'Nhokzuize2k3',\n",
       "  'picture': 'https://lh3.googleusercontent.com/a/ACg8ocKF86EIKa39Fy6UbwCbo4BgYj93YyVU3PTNAq7I8yIIwpwm1hK0=s96-c'},\n",
       " {'email': 'taiphanvan2403@gmail.com',\n",
       "  'display_name': 'Phan Văn Tài',\n",
       "  'picture': 'https://lh3.googleusercontent.com/a/ACg8ocJsGxzIHOhPicxANjrM8yEoH8-VY6KMVRH83FGK1fPOaIVSpvfo=s96-c'}]"
      ]
     },
     "execution_count": 29,
     "metadata": {},
     "output_type": "execute_result"
    }
   ],
   "source": [
    "query = \"taiphan\"\n",
    "search_result = user_index.search(query, {\n",
    "    \"attributesToRetrieve\": [\"display_name\", \"email\"],\n",
    "    \"hitsPerPage\": 5,\n",
    "    'attributesToHighlight': ['picture']  # Bổ sung trường 'picture' để nó được trả về\n",
    "})\n",
    "\n",
    "hits = search_result['hits']\n",
    "results = [\n",
    "        {\n",
    "            \"email\": hit[\"email\"],\n",
    "            \"display_name\": hit[\"display_name\"],\n",
    "            \"picture\": hit.get(\"_highlightResult\", {})\n",
    "            .get(\"picture\", {})\n",
    "            .get(\"value\", \"\"),\n",
    "        }\n",
    "        for hit in hits\n",
    "    ]\n",
    "results"
   ]
  }
 ],
 "metadata": {
  "kernelspec": {
   "display_name": ".venv",
   "language": "python",
   "name": "python3"
  },
  "language_info": {
   "codemirror_mode": {
    "name": "ipython",
    "version": 3
   },
   "file_extension": ".py",
   "mimetype": "text/x-python",
   "name": "python",
   "nbconvert_exporter": "python",
   "pygments_lexer": "ipython3",
   "version": "3.11.5"
  }
 },
 "nbformat": 4,
 "nbformat_minor": 2
}
